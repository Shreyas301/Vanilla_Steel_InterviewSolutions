{
  "nbformat": 4,
  "nbformat_minor": 0,
  "metadata": {
    "colab": {
      "provenance": []
    },
    "kernelspec": {
      "name": "python3",
      "display_name": "Python 3"
    },
    "language_info": {
      "name": "python"
    }
  },
  "cells": [
    {
      "cell_type": "code",
      "source": [
        "import pandas as pd\n",
        "\n",
        "supplier1 = pd.read_excel(\"supplier_data1.xlsx\")\n",
        "supplier2 = pd.read_excel(\"supplier_data2.xlsx\")\n",
        "buyer_prefs = pd.read_excel(\"buyer_preferences.xlsx\")\n",
        "\n",
        "print(\"Supplier1 Columns:\", supplier1.columns.tolist())\n",
        "print(\"Supplier2 Columns:\", supplier2.columns.tolist())\n",
        "print(\"Buyer Preferences Columns:\", buyer_prefs.columns.tolist())\n",
        "\n",
        "supplier1_filtered = supplier1[[\"Quality/Choice\", \"Grade\", \"Finish\", \"Thickness (mm)\", \"Width (mm)\", \"Gross weight (kg)\", \"Quantity\"]]\n",
        "\n",
        "supplier1_filtered[\"Thickness (mm)\"] = pd.to_numeric(supplier1_filtered[\"Thickness (mm)\"], errors='coerce')\n",
        "supplier1_filtered[\"Width (mm)\"] = pd.to_numeric(supplier1_filtered[\"Width (mm)\"], errors='coerce')\n",
        "supplier1_filtered[\"Gross weight (kg)\"] = pd.to_numeric(supplier1_filtered[\"Gross weight (kg)\"], errors='coerce')\n",
        "supplier1_filtered[\"Quantity\"] = pd.to_numeric(supplier1_filtered[\"Quantity\"], errors='coerce')\n",
        "\n",
        "buyer_prefs[\"Preferred Thickness (mm)\"] = pd.to_numeric(buyer_prefs[\"Preferred Thickness (mm)\"], errors='coerce')\n",
        "buyer_prefs[\"Preferred Width (mm)\"] = pd.to_numeric(buyer_prefs[\"Preferred Width (mm)\"], errors='coerce')\n",
        "buyer_prefs[\"Max Weight (kg)\"] = pd.to_numeric(buyer_prefs[\"Max Weight (kg)\"], errors='coerce')\n",
        "buyer_prefs[\"Min Quantity\"] = pd.to_numeric(buyer_prefs[\"Min Quantity\"], errors='coerce')\n",
        "supplier1_filtered.dropna(inplace=True)\n",
        "buyer_prefs.dropna(inplace=True)\n",
        "\n",
        "\n",
        "matched_data = supplier_filtered.merge(\n",
        "    buyer_prefs,\n",
        "    left_on=[\"Grade\", \"Finish\", \"Thickness (mm)\", \"Width (mm)\"],\n",
        "    right_on=[\"Preferred Grade\", \"Preferred Finish\", \"Preferred Thickness (mm)\", \"Preferred Width (mm)\"],\n",
        "    how=\"inner\"\n",
        ")\n",
        "\n",
        "\n",
        "filtered_matches = matched_data[\n",
        "    (matched_data[\"Gross weight (kg)\"] <= matched_data[\"Max Weight (kg)\"]) &\n",
        "    (matched_data[\"Quantity\"] >= matched_data[\"Min Quantity\"])\n",
        "]\n",
        "\n",
        "if filtered_matches.empty:\n",
        "    print(\"⚠️ No exact matches found. Trying relaxed constraints...\")\n",
        "    filtered_matches = matched_data[\n",
        "        (matched_data[\"Gross weight (kg)\"] <= matched_data[\"Max Weight (kg)\"] + 10) &\n",
        "        (matched_data[\"Quantity\"] >= matched_data[\"Min Quantity\"] - 5)\n",
        "    ]\n",
        "\n",
        "if filtered_matches.empty:\n",
        "    filtered_matches = pd.DataFrame(columns=[\"Buyer ID\", \"Grade\", \"Finish\", \"Thickness (mm)\", \"Width (mm)\", \"Quantity\"])\n",
        "    print(\"No recommendations found. Creating an empty recommendation table.\")\n",
        "\n",
        "filtered_matches[[\"Buyer ID\", \"Grade\", \"Finish\", \"Thickness (mm)\", \"Width (mm)\", \"Quantity\"]].to_excel(\n",
        "    \"recommendation_table.xlsx\", index=False\n",
        ")\n",
        "print(\"Recommendation table saved as 'recommendation_table.xlsx'\")"
      ],
      "metadata": {
        "colab": {
          "base_uri": "https://localhost:8080/"
        },
        "id": "hkplFOvwWV0G",
        "outputId": "eea027cc-55a3-4de6-8eef-ba64464c1ea6"
      },
      "execution_count": 121,
      "outputs": [
        {
          "output_type": "stream",
          "name": "stdout",
          "text": [
            "Supplier1 Columns: ['Quality/Choice', 'Grade', 'Finish', 'Thickness (mm)', 'Width (mm)', 'Description', 'Gross weight (kg)', 'RP02', 'RM', 'Quantity', 'AG', 'AI']\n",
            "Supplier2 Columns: ['Material', 'Description', 'Article ID', 'Weight (kg)', 'Quantity', 'Reserved']\n",
            "Buyer Preferences Columns: ['Buyer ID', 'Preferred Grade', 'Preferred Finish', 'Preferred Thickness (mm)', 'Preferred Width (mm)', 'Max Weight (kg)', 'Min Quantity']\n",
            "⚠️ No exact matches found. Trying relaxed constraints...\n",
            "No recommendations found. Creating an empty recommendation table.\n",
            "Recommendation table saved as 'recommendation_table.xlsx'\n"
          ]
        },
        {
          "output_type": "stream",
          "name": "stderr",
          "text": [
            "<ipython-input-121-5e2554ddcadc>:13: SettingWithCopyWarning: \n",
            "A value is trying to be set on a copy of a slice from a DataFrame.\n",
            "Try using .loc[row_indexer,col_indexer] = value instead\n",
            "\n",
            "See the caveats in the documentation: https://pandas.pydata.org/pandas-docs/stable/user_guide/indexing.html#returning-a-view-versus-a-copy\n",
            "  supplier1_filtered[\"Thickness (mm)\"] = pd.to_numeric(supplier1_filtered[\"Thickness (mm)\"], errors='coerce')\n",
            "<ipython-input-121-5e2554ddcadc>:14: SettingWithCopyWarning: \n",
            "A value is trying to be set on a copy of a slice from a DataFrame.\n",
            "Try using .loc[row_indexer,col_indexer] = value instead\n",
            "\n",
            "See the caveats in the documentation: https://pandas.pydata.org/pandas-docs/stable/user_guide/indexing.html#returning-a-view-versus-a-copy\n",
            "  supplier1_filtered[\"Width (mm)\"] = pd.to_numeric(supplier1_filtered[\"Width (mm)\"], errors='coerce')\n",
            "<ipython-input-121-5e2554ddcadc>:15: SettingWithCopyWarning: \n",
            "A value is trying to be set on a copy of a slice from a DataFrame.\n",
            "Try using .loc[row_indexer,col_indexer] = value instead\n",
            "\n",
            "See the caveats in the documentation: https://pandas.pydata.org/pandas-docs/stable/user_guide/indexing.html#returning-a-view-versus-a-copy\n",
            "  supplier1_filtered[\"Gross weight (kg)\"] = pd.to_numeric(supplier1_filtered[\"Gross weight (kg)\"], errors='coerce')\n",
            "<ipython-input-121-5e2554ddcadc>:16: SettingWithCopyWarning: \n",
            "A value is trying to be set on a copy of a slice from a DataFrame.\n",
            "Try using .loc[row_indexer,col_indexer] = value instead\n",
            "\n",
            "See the caveats in the documentation: https://pandas.pydata.org/pandas-docs/stable/user_guide/indexing.html#returning-a-view-versus-a-copy\n",
            "  supplier1_filtered[\"Quantity\"] = pd.to_numeric(supplier1_filtered[\"Quantity\"], errors='coerce')\n",
            "<ipython-input-121-5e2554ddcadc>:22: SettingWithCopyWarning: \n",
            "A value is trying to be set on a copy of a slice from a DataFrame\n",
            "\n",
            "See the caveats in the documentation: https://pandas.pydata.org/pandas-docs/stable/user_guide/indexing.html#returning-a-view-versus-a-copy\n",
            "  supplier1_filtered.dropna(inplace=True)\n"
          ]
        }
      ]
    }
  ]
}